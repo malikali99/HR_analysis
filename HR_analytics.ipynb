{
 "cells": [
  {
   "cell_type": "markdown",
   "metadata": {},
   "source": [
    "> #  **`HR Exploratory Data Analysis`**\n",
    "\n",
    "<img src=\"./HR.gif\" width=\"500\" height=\"400\" style=\"display: block; margin-left: auto; margin-right: auto;\">\n",
    "\n",
    "____\n",
    "**`Live Preview:`**\n",
    "To see live dashboard click [here.](https://app.powerbi.com/view?r=eyJrIjoiZTgyYTE0NWMtOGM2OS00MjYzLTk2YTYtNWRkODRjNzc5ZTAzIiwidCI6IjYyZjIxODFlLWY4ZjQtNDVjZS05NzE0LTIyNTIyYjE2OWY1NSIsImMiOjl9)\n",
    "____\n",
    "\n",
    "**`Author Name:`** Malik Hasnain Ali\\\n",
    "**`Email ID:`** 512yaali@gmai.com\\\n",
    "**`Linkedin profile:`** [hasnainali99](https://www.linkedin.com/in/hasnainali99/)\n",
    "\n",
    "____\n",
    "**`Data Source:`**\\\n",
    "It is a secondary data which is collected from the following [link](https://docs.google.com/spreadsheets/d/17zaiJnUOnLdHROWLZYcVlpMJ08wh-Bou/edit#gid=115883679)\n",
    "____\n",
    "**`Data Collection:`**\\\n",
    "Data collected can be seen as a raw .xlsx file here\n",
    "____\n",
    "**`Data Storage:`**\\\n",
    "The collected data has been stored in the excel file name as HR Data.xlsx. Each id in the dataset is uniquely identified by its Employee Id.\n",
    "____\n",
    "**`Data Publish Year:`**\n",
    "- 2022\n",
    "____\n",
    "**`Tools:`**\n",
    "- Google Chrome\n",
    "- Markdown\n",
    "- Excel\n",
    "- Power BI\n",
    "- Data Modelling\n",
    "- Data cleaning \n",
    "- M Language\n",
    "____\n",
    "**`Data Cleaning/Preparation:`**\\\n",
    "In the initial data preparation phase, we performed the following tasks:\n",
    "1. Data loading and inspection\n",
    "2. Handling Missing values\n",
    "3. Handling Outliers\n",
    "4. Data Cleaning and formating\n",
    "____"
   ]
  }
 ],
 "metadata": {
  "kernelspec": {
   "display_name": "Python 3",
   "language": "python",
   "name": "python3"
  },
  "language_info": {
   "codemirror_mode": {
    "name": "ipython",
    "version": 3
   },
   "file_extension": ".py",
   "mimetype": "text/x-python",
   "name": "python",
   "nbconvert_exporter": "python",
   "pygments_lexer": "ipython3",
   "version": "3.11.2"
  }
 },
 "nbformat": 4,
 "nbformat_minor": 2
}
